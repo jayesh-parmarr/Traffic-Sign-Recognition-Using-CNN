{
 "cells": [
  {
   "cell_type": "code",
   "execution_count": 2,
   "metadata": {},
   "outputs": [],
   "source": [
    "import numpy as np\n",
    "import pandas as pd"
   ]
  },
  {
   "cell_type": "code",
   "execution_count": 3,
   "metadata": {},
   "outputs": [],
   "source": [
    "import matplotlib.pyplot as plt"
   ]
  },
  {
   "cell_type": "code",
   "execution_count": 4,
   "metadata": {},
   "outputs": [],
   "source": [
    "import os\n",
    "from PIL import Image"
   ]
  },
  {
   "cell_type": "code",
   "execution_count": 5,
   "metadata": {},
   "outputs": [
    {
     "name": "stdout",
     "output_type": "stream",
     "text": [
      "c:\\Users\\HP\\Desktop\\Programming\\Projects\\Deep Learning Project\\01 Traffic\\datasets\\Train\\0\n"
     ]
    },
    {
     "name": "stdout",
     "output_type": "stream",
     "text": [
      "c:\\Users\\HP\\Desktop\\Programming\\Projects\\Deep Learning Project\\01 Traffic\\datasets\\Train\\1\n",
      "c:\\Users\\HP\\Desktop\\Programming\\Projects\\Deep Learning Project\\01 Traffic\\datasets\\Train\\2\n",
      "c:\\Users\\HP\\Desktop\\Programming\\Projects\\Deep Learning Project\\01 Traffic\\datasets\\Train\\3\n",
      "c:\\Users\\HP\\Desktop\\Programming\\Projects\\Deep Learning Project\\01 Traffic\\datasets\\Train\\4\n",
      "c:\\Users\\HP\\Desktop\\Programming\\Projects\\Deep Learning Project\\01 Traffic\\datasets\\Train\\5\n",
      "c:\\Users\\HP\\Desktop\\Programming\\Projects\\Deep Learning Project\\01 Traffic\\datasets\\Train\\6\n",
      "c:\\Users\\HP\\Desktop\\Programming\\Projects\\Deep Learning Project\\01 Traffic\\datasets\\Train\\7\n",
      "c:\\Users\\HP\\Desktop\\Programming\\Projects\\Deep Learning Project\\01 Traffic\\datasets\\Train\\8\n",
      "c:\\Users\\HP\\Desktop\\Programming\\Projects\\Deep Learning Project\\01 Traffic\\datasets\\Train\\9\n",
      "c:\\Users\\HP\\Desktop\\Programming\\Projects\\Deep Learning Project\\01 Traffic\\datasets\\Train\\10\n",
      "c:\\Users\\HP\\Desktop\\Programming\\Projects\\Deep Learning Project\\01 Traffic\\datasets\\Train\\11\n",
      "c:\\Users\\HP\\Desktop\\Programming\\Projects\\Deep Learning Project\\01 Traffic\\datasets\\Train\\12\n",
      "c:\\Users\\HP\\Desktop\\Programming\\Projects\\Deep Learning Project\\01 Traffic\\datasets\\Train\\13\n",
      "c:\\Users\\HP\\Desktop\\Programming\\Projects\\Deep Learning Project\\01 Traffic\\datasets\\Train\\14\n",
      "c:\\Users\\HP\\Desktop\\Programming\\Projects\\Deep Learning Project\\01 Traffic\\datasets\\Train\\15\n",
      "c:\\Users\\HP\\Desktop\\Programming\\Projects\\Deep Learning Project\\01 Traffic\\datasets\\Train\\16\n",
      "c:\\Users\\HP\\Desktop\\Programming\\Projects\\Deep Learning Project\\01 Traffic\\datasets\\Train\\17\n",
      "c:\\Users\\HP\\Desktop\\Programming\\Projects\\Deep Learning Project\\01 Traffic\\datasets\\Train\\18\n",
      "c:\\Users\\HP\\Desktop\\Programming\\Projects\\Deep Learning Project\\01 Traffic\\datasets\\Train\\19\n",
      "c:\\Users\\HP\\Desktop\\Programming\\Projects\\Deep Learning Project\\01 Traffic\\datasets\\Train\\20\n",
      "c:\\Users\\HP\\Desktop\\Programming\\Projects\\Deep Learning Project\\01 Traffic\\datasets\\Train\\21\n",
      "c:\\Users\\HP\\Desktop\\Programming\\Projects\\Deep Learning Project\\01 Traffic\\datasets\\Train\\22\n",
      "c:\\Users\\HP\\Desktop\\Programming\\Projects\\Deep Learning Project\\01 Traffic\\datasets\\Train\\23\n",
      "c:\\Users\\HP\\Desktop\\Programming\\Projects\\Deep Learning Project\\01 Traffic\\datasets\\Train\\24\n",
      "c:\\Users\\HP\\Desktop\\Programming\\Projects\\Deep Learning Project\\01 Traffic\\datasets\\Train\\25\n",
      "c:\\Users\\HP\\Desktop\\Programming\\Projects\\Deep Learning Project\\01 Traffic\\datasets\\Train\\26\n",
      "c:\\Users\\HP\\Desktop\\Programming\\Projects\\Deep Learning Project\\01 Traffic\\datasets\\Train\\27\n",
      "c:\\Users\\HP\\Desktop\\Programming\\Projects\\Deep Learning Project\\01 Traffic\\datasets\\Train\\28\n",
      "c:\\Users\\HP\\Desktop\\Programming\\Projects\\Deep Learning Project\\01 Traffic\\datasets\\Train\\29\n",
      "c:\\Users\\HP\\Desktop\\Programming\\Projects\\Deep Learning Project\\01 Traffic\\datasets\\Train\\30\n",
      "c:\\Users\\HP\\Desktop\\Programming\\Projects\\Deep Learning Project\\01 Traffic\\datasets\\Train\\31\n",
      "c:\\Users\\HP\\Desktop\\Programming\\Projects\\Deep Learning Project\\01 Traffic\\datasets\\Train\\32\n",
      "c:\\Users\\HP\\Desktop\\Programming\\Projects\\Deep Learning Project\\01 Traffic\\datasets\\Train\\33\n",
      "c:\\Users\\HP\\Desktop\\Programming\\Projects\\Deep Learning Project\\01 Traffic\\datasets\\Train\\34\n",
      "c:\\Users\\HP\\Desktop\\Programming\\Projects\\Deep Learning Project\\01 Traffic\\datasets\\Train\\35\n",
      "c:\\Users\\HP\\Desktop\\Programming\\Projects\\Deep Learning Project\\01 Traffic\\datasets\\Train\\36\n",
      "c:\\Users\\HP\\Desktop\\Programming\\Projects\\Deep Learning Project\\01 Traffic\\datasets\\Train\\37\n",
      "c:\\Users\\HP\\Desktop\\Programming\\Projects\\Deep Learning Project\\01 Traffic\\datasets\\Train\\38\n",
      "c:\\Users\\HP\\Desktop\\Programming\\Projects\\Deep Learning Project\\01 Traffic\\datasets\\Train\\39\n",
      "c:\\Users\\HP\\Desktop\\Programming\\Projects\\Deep Learning Project\\01 Traffic\\datasets\\Train\\40\n",
      "c:\\Users\\HP\\Desktop\\Programming\\Projects\\Deep Learning Project\\01 Traffic\\datasets\\Train\\41\n",
      "c:\\Users\\HP\\Desktop\\Programming\\Projects\\Deep Learning Project\\01 Traffic\\datasets\\Train\\42\n"
     ]
    }
   ],
   "source": [
    "data = []\n",
    "labels = []\n",
    "classess = 43\n",
    "cur_path = os.getcwd()\n",
    "for i in range(classess):\n",
    "    path = os.path.join(cur_path,'datasets','Train',str(i))\n",
    "    print(path)\n",
    "    images = os.listdir(path)\n",
    "    \n",
    "    for a in images:\n",
    "        try:\n",
    "            image = Image.open(path + '\\\\' + a)\n",
    "            image = image.resize((30,30))\n",
    "            image = np.array(image)\n",
    "#             print(len(image))\n",
    "            data.append(image)\n",
    "            labels.append(i)\n",
    "        except Exception as e:\n",
    "            print(f\"Error in Loading Image: {e}\")\n",
    "data = np.array(data)\n",
    "labels = np.array(labels)"
   ]
  },
  {
   "cell_type": "code",
   "execution_count": 6,
   "metadata": {},
   "outputs": [
    {
     "name": "stdout",
     "output_type": "stream",
     "text": [
      "(39209, 30, 30, 3) (39209,)\n"
     ]
    }
   ],
   "source": [
    "print(data.shape, labels.shape)"
   ]
  },
  {
   "cell_type": "code",
   "execution_count": 7,
   "metadata": {},
   "outputs": [],
   "source": [
    "from sklearn.model_selection import train_test_split"
   ]
  },
  {
   "cell_type": "code",
   "execution_count": 8,
   "metadata": {},
   "outputs": [],
   "source": [
    "x_train, x_test, y_train, y_test = train_test_split(data, labels, test_size=0.2, random_state=42)\n"
   ]
  },
  {
   "cell_type": "code",
   "execution_count": 9,
   "metadata": {},
   "outputs": [
    {
     "name": "stdout",
     "output_type": "stream",
     "text": [
      "(31367, 30, 30, 3) (7842, 30, 30, 3)\n"
     ]
    }
   ],
   "source": [
    "print(x_train.shape, x_test.shape)"
   ]
  },
  {
   "cell_type": "code",
   "execution_count": 10,
   "metadata": {},
   "outputs": [
    {
     "name": "stdout",
     "output_type": "stream",
     "text": [
      "(31367,) (7842,)\n"
     ]
    }
   ],
   "source": [
    "print(y_train.shape, y_test.shape)"
   ]
  },
  {
   "cell_type": "code",
   "execution_count": 11,
   "metadata": {},
   "outputs": [
    {
     "data": {
      "text/plain": [
       "36"
      ]
     },
     "execution_count": 11,
     "metadata": {},
     "output_type": "execute_result"
    }
   ],
   "source": [
    "y_train[0]"
   ]
  },
  {
   "cell_type": "code",
   "execution_count": 12,
   "metadata": {},
   "outputs": [],
   "source": [
    "import tensorflow as tf\n",
    "from tensorflow import keras\n",
    "from keras.utils import to_categorical"
   ]
  },
  {
   "cell_type": "code",
   "execution_count": 13,
   "metadata": {},
   "outputs": [],
   "source": [
    "y_train = to_categorical(y_train,43)\n",
    "y_test = to_categorical(y_test, 43)"
   ]
  },
  {
   "cell_type": "code",
   "execution_count": 14,
   "metadata": {},
   "outputs": [],
   "source": [
    "from keras.models import Sequential\n",
    "from keras.layers import Conv2D, MaxPool2D, Dense, Flatten, Dropout, BatchNormalization"
   ]
  },
  {
   "cell_type": "code",
   "execution_count": 15,
   "metadata": {},
   "outputs": [
    {
     "name": "stderr",
     "output_type": "stream",
     "text": [
      "C:\\Users\\HP\\AppData\\Roaming\\Python\\Python310\\site-packages\\keras\\src\\layers\\convolutional\\base_conv.py:107: UserWarning: Do not pass an `input_shape`/`input_dim` argument to a layer. When using Sequential models, prefer using an `Input(shape)` object as the first layer in the model instead.\n",
      "  super().__init__(activity_regularizer=activity_regularizer, **kwargs)\n"
     ]
    }
   ],
   "source": [
    "model = Sequential()\n",
    "model.add(Conv2D(filters=32, kernel_size=(5,5), activation='relu', input_shape=x_train.shape[1:]))\n",
    "model.add(BatchNormalization())\n",
    "model.add(Conv2D(filters=32, kernel_size=(5,5), activation='relu'))\n",
    "model.add(BatchNormalization())\n",
    "model.add(MaxPool2D(pool_size=(2,2)))\n",
    "model.add(Dropout(rate=0.25))\n",
    "model.add(Conv2D(filters=64, kernel_size=(3,3), activation='relu'))\n",
    "model.add(BatchNormalization())\n",
    "model.add(Conv2D(filters=64, kernel_size=(3,3), activation='relu'))\n",
    "model.add(BatchNormalization())\n",
    "model.add(MaxPool2D(pool_size=(2,2)))\n",
    "model.add(Dropout(rate=0.25))\n",
    "model.add(Flatten())\n",
    "model.add(Dense(256, activation='relu'))\n",
    "model.add(BatchNormalization())\n",
    "model.add(Dropout(rate=0.5))\n",
    "model.add(Dense(43, activation='softmax'))"
   ]
  },
  {
   "cell_type": "code",
   "execution_count": 16,
   "metadata": {},
   "outputs": [],
   "source": [
    "model.compile(loss='categorical_crossentropy', optimizer='adam', metrics=['accuracy'])\n"
   ]
  },
  {
   "cell_type": "code",
   "execution_count": 17,
   "metadata": {},
   "outputs": [
    {
     "name": "stdout",
     "output_type": "stream",
     "text": [
      "Epoch 1/15\n",
      "\u001b[1m981/981\u001b[0m \u001b[32m━━━━━━━━━━━━━━━━━━━━\u001b[0m\u001b[37m\u001b[0m \u001b[1m64s\u001b[0m 56ms/step - accuracy: 0.5645 - loss: 1.7783 - val_accuracy: 0.9697 - val_loss: 0.1197\n",
      "Epoch 2/15\n",
      "\u001b[1m981/981\u001b[0m \u001b[32m━━━━━━━━━━━━━━━━━━━━\u001b[0m\u001b[37m\u001b[0m \u001b[1m55s\u001b[0m 56ms/step - accuracy: 0.9573 - loss: 0.1483 - val_accuracy: 0.9915 - val_loss: 0.0371\n",
      "Epoch 3/15\n",
      "\u001b[1m981/981\u001b[0m \u001b[32m━━━━━━━━━━━━━━━━━━━━\u001b[0m\u001b[37m\u001b[0m \u001b[1m55s\u001b[0m 56ms/step - accuracy: 0.9765 - loss: 0.0852 - val_accuracy: 0.9936 - val_loss: 0.0259\n",
      "Epoch 4/15\n",
      "\u001b[1m981/981\u001b[0m \u001b[32m━━━━━━━━━━━━━━━━━━━━\u001b[0m\u001b[37m\u001b[0m \u001b[1m55s\u001b[0m 56ms/step - accuracy: 0.9815 - loss: 0.0635 - val_accuracy: 0.9927 - val_loss: 0.0235\n",
      "Epoch 5/15\n",
      "\u001b[1m981/981\u001b[0m \u001b[32m━━━━━━━━━━━━━━━━━━━━\u001b[0m\u001b[37m\u001b[0m \u001b[1m56s\u001b[0m 57ms/step - accuracy: 0.9832 - loss: 0.0540 - val_accuracy: 0.9950 - val_loss: 0.0184\n",
      "Epoch 6/15\n",
      "\u001b[1m981/981\u001b[0m \u001b[32m━━━━━━━━━━━━━━━━━━━━\u001b[0m\u001b[37m\u001b[0m \u001b[1m57s\u001b[0m 58ms/step - accuracy: 0.9876 - loss: 0.0392 - val_accuracy: 0.9950 - val_loss: 0.0185\n",
      "Epoch 7/15\n",
      "\u001b[1m981/981\u001b[0m \u001b[32m━━━━━━━━━━━━━━━━━━━━\u001b[0m\u001b[37m\u001b[0m \u001b[1m57s\u001b[0m 58ms/step - accuracy: 0.9854 - loss: 0.0457 - val_accuracy: 0.9935 - val_loss: 0.0234\n",
      "Epoch 8/15\n",
      "\u001b[1m981/981\u001b[0m \u001b[32m━━━━━━━━━━━━━━━━━━━━\u001b[0m\u001b[37m\u001b[0m \u001b[1m56s\u001b[0m 57ms/step - accuracy: 0.9913 - loss: 0.0298 - val_accuracy: 0.9912 - val_loss: 0.0268\n",
      "Epoch 9/15\n",
      "\u001b[1m981/981\u001b[0m \u001b[32m━━━━━━━━━━━━━━━━━━━━\u001b[0m\u001b[37m\u001b[0m \u001b[1m57s\u001b[0m 58ms/step - accuracy: 0.9905 - loss: 0.0282 - val_accuracy: 0.9936 - val_loss: 0.0234\n",
      "Epoch 10/15\n",
      "\u001b[1m981/981\u001b[0m \u001b[32m━━━━━━━━━━━━━━━━━━━━\u001b[0m\u001b[37m\u001b[0m \u001b[1m57s\u001b[0m 58ms/step - accuracy: 0.9898 - loss: 0.0328 - val_accuracy: 0.9952 - val_loss: 0.0154\n",
      "Epoch 11/15\n",
      "\u001b[1m981/981\u001b[0m \u001b[32m━━━━━━━━━━━━━━━━━━━━\u001b[0m\u001b[37m\u001b[0m \u001b[1m58s\u001b[0m 59ms/step - accuracy: 0.9924 - loss: 0.0237 - val_accuracy: 0.9952 - val_loss: 0.0162\n",
      "Epoch 12/15\n",
      "\u001b[1m981/981\u001b[0m \u001b[32m━━━━━━━━━━━━━━━━━━━━\u001b[0m\u001b[37m\u001b[0m \u001b[1m58s\u001b[0m 59ms/step - accuracy: 0.9936 - loss: 0.0203 - val_accuracy: 0.9967 - val_loss: 0.0117\n",
      "Epoch 13/15\n",
      "\u001b[1m981/981\u001b[0m \u001b[32m━━━━━━━━━━━━━━━━━━━━\u001b[0m\u001b[37m\u001b[0m \u001b[1m57s\u001b[0m 58ms/step - accuracy: 0.9925 - loss: 0.0238 - val_accuracy: 0.9953 - val_loss: 0.0154\n",
      "Epoch 14/15\n",
      "\u001b[1m981/981\u001b[0m \u001b[32m━━━━━━━━━━━━━━━━━━━━\u001b[0m\u001b[37m\u001b[0m \u001b[1m57s\u001b[0m 58ms/step - accuracy: 0.9931 - loss: 0.0209 - val_accuracy: 0.9967 - val_loss: 0.0121\n",
      "Epoch 15/15\n",
      "\u001b[1m981/981\u001b[0m \u001b[32m━━━━━━━━━━━━━━━━━━━━\u001b[0m\u001b[37m\u001b[0m \u001b[1m58s\u001b[0m 59ms/step - accuracy: 0.9958 - loss: 0.0150 - val_accuracy: 0.9932 - val_loss: 0.0224\n"
     ]
    }
   ],
   "source": [
    "epochs = 15\n",
    "history = model.fit(x_train, y_train, batch_size=32, epochs=epochs, validation_data=(x_test,y_test))"
   ]
  },
  {
   "cell_type": "code",
   "execution_count": 17,
   "metadata": {},
   "outputs": [
    {
     "name": "stderr",
     "output_type": "stream",
     "text": [
      "WARNING:absl:You are saving your model as an HDF5 file via `model.save()` or `keras.saving.save_model(model)`. This file format is considered legacy. We recommend using instead the native Keras format, e.g. `model.save('my_model.keras')` or `keras.saving.save_model(model, 'my_model.keras')`. \n"
     ]
    }
   ],
   "source": [
    "model.save(\"model2.h5\")"
   ]
  },
  {
   "cell_type": "code",
   "execution_count": 18,
   "metadata": {},
   "outputs": [],
   "source": [
    "from sklearn.metrics import accuracy_score\n",
    "y_test = pd.read_csv('C:/Users/HP/Desktop/Programming/Projects/Deep Learning Project/01 Traffic/datasets/Test.csv')\n",
    "labels = y_test['ClassId'].values\n",
    "img = y_test['Path'].values"
   ]
  },
  {
   "cell_type": "code",
   "execution_count": 19,
   "metadata": {},
   "outputs": [],
   "source": [
    "data = []\n",
    "\n",
    "for i in img:\n",
    "    path = 'C:/Users/HP/Desktop/Programming/Projects/Deep Learning Project/01 Traffic/datasets'\n",
    "    image = Image.open(path +'//'+i)\n",
    "    image = image.resize((30,30))\n",
    "    data.append(np.array(image))\n",
    "X_test = np.array(data)\n"
   ]
  },
  {
   "cell_type": "code",
   "execution_count": 27,
   "metadata": {},
   "outputs": [
    {
     "name": "stdout",
     "output_type": "stream",
     "text": [
      "\u001b[1m395/395\u001b[0m \u001b[32m━━━━━━━━━━━━━━━━━━━━\u001b[0m\u001b[37m\u001b[0m \u001b[1m6s\u001b[0m 15ms/step\n"
     ]
    }
   ],
   "source": [
    "pred = model.predict(X_test)"
   ]
  },
  {
   "cell_type": "code",
   "execution_count": 28,
   "metadata": {},
   "outputs": [],
   "source": [
    "pred_classes = np.argmax(pred, axis=1)"
   ]
  },
  {
   "cell_type": "code",
   "execution_count": 29,
   "metadata": {},
   "outputs": [
    {
     "name": "stdout",
     "output_type": "stream",
     "text": [
      "0.9640538400633413\n"
     ]
    }
   ],
   "source": [
    "print(accuracy_score(labels, pred_classes))"
   ]
  },
  {
   "cell_type": "code",
   "execution_count": 30,
   "metadata": {},
   "outputs": [
    {
     "data": {
      "text/plain": [
       "<matplotlib.legend.Legend at 0x1d9d9734400>"
      ]
     },
     "execution_count": 30,
     "metadata": {},
     "output_type": "execute_result"
    },
    {
     "data": {
      "image/png": "[encoded data removed]",
      "text/plain": [
       "<Figure size 640x480 with 1 Axes>"
      ]
     },
     "metadata": {},
     "output_type": "display_data"
    }
   ],
   "source": [
    "plt.plot(history.history['accuracy'], label='training accuracy')\n",
    "plt.plot(history.history['val_accuracy'], label='val accuracy')\n",
    "plt.title(\"Accuracy\")\n",
    "plt.xlabel(\"Number of Epochs\")\n",
    "plt.ylabel(\"Accuracy\")\n",
    "plt.legend()\n"
   ]
  },
  {
   "cell_type": "code",
   "execution_count": 29,
   "metadata": {},
   "outputs": [
    {
     "data": {
      "text/plain": [
       "<matplotlib.legend.Legend at 0x13d91b2b160>"
      ]
     },
     "execution_count": 29,
     "metadata": {},
     "output_type": "execute_result"
    },
    {
     "data": {
      "image/png": "[encoded data removed]",
      "text/plain": [
       "<Figure size 640x480 with 1 Axes>"
      ]
     },
     "metadata": {},
     "output_type": "display_data"
    }
   ],
   "source": [
    "plt.plot(history.history['loss'], label='training loss')\n",
    "plt.plot(history.history['val_loss'], label='val loss')\n",
    "plt.title(\"Loss\")\n",
    "plt.xlabel(\"Number of Epochs\")\n",
    "plt.ylabel(\"loss\")\n",
    "plt.legend()"
   ]
  },
  {
   "cell_type": "code",
   "execution_count": 30,
   "metadata": {},
   "outputs": [],
   "source": [
    "model.save(\"final_model.keras\")"
   ]
  },
  {
   "cell_type": "code",
   "execution_count": 32,
   "metadata": {},
   "outputs": [],
   "source": [
    "import pickle\n",
    "with open('model.pkl', 'wb') as f:\n",
    "    pickle.dump(model,f)"
   ]
  },
  {
   "cell_type": "code",
   "execution_count": null,
   "metadata": {},
   "outputs": [],
   "source": []
  }
 ],
 "metadata": {
  "kernelspec": {
   "display_name": "Python 3",
   "language": "python",
   "name": "python3"
  },
  "language_info": {
   "codemirror_mode": {
    "name": "ipython",
    "version": 3
   },
   "file_extension": ".py",
   "mimetype": "text/x-python",
   "name": "python",
   "nbconvert_exporter": "python",
   "pygments_lexer": "ipython3",
   "version": "3.10.6"
  }
 },
 "nbformat": 4,
 "nbformat_minor": 2
}
